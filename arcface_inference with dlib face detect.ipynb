{
 "cells": [
  {
   "cell_type": "markdown",
   "metadata": {},
   "source": [
    "# Inference Demo for ArcFace models\n",
    "\n",
    "## Overview\n",
    "This notebook can be used for inference on ArcFace ONNX models. The demo shows how to use the trained models to do inference in MXNet.\n",
    "\n",
    "## Models supported\n",
    "* LResNet100E-IR (ResNet100 backend with ArcFace loss)\n",
    "\n",
    "## Prerequisites\n",
    "The following packages need to be installed before proceeding:\n",
    "* Protobuf compiler - `sudo apt-get install protobuf-compiler libprotoc-dev` (required for ONNX. This will work for any linux system. For detailed installation guidelines head over to [ONNX documentation](https://github.com/onnx/onnx#installation))\n",
    "* ONNX - `pip install onnx`\n",
    "* MXNet - `pip install mxnet-cu90mkl --pre -U` (tested on this version GPU, can use other versions. `--pre` indicates a pre build of MXNet which is required here for ONNX version compatibility. `-U` uninstalls any existing MXNet version allowing for a clean install)\n",
    "* numpy - `pip install numpy`\n",
    "* matplotlib - `pip install matplotlib`\n",
    "* OpenCV - `pip install opencv-python`\n",
    "* Scikit-learn - `pip install scikit-learn`\n",
    "* EasyDict - `pip install easydict`\n",
    "* Scikit-image - `pip install scikit-image`\n",
    "* Scipy -    `pip install scipy`\n",
    "* DLib -     `pip install dlib`\n",
    "* Tensorflow - `pip install tensorflow-gpu==1.11`\n",
    "\n",
    "Also the following scripts and folders (included in the repo) must be present in the same folder as this notebook:\n",
    "* `mtcnn_detector.py` (Performs face detection as a part of preprocessing)-(In this version i have changed mtcnn to dlib so that you don't need to care about it)\n",
    "* `helper.py` (helper script for face detection)\n",
    "\n",
    "In order to do inference with a python script:\n",
    "* Generate the script : In Jupyter Notebook browser, go to File -> Download as -> Python (.py)\n",
    "* Run the script: `python arcface_inference.py`"
   ]
  },
  {
   "cell_type": "markdown",
   "metadata": {},
   "source": [
    "### Import dependencies\n",
    "Verify that all dependencies are installed using the cell below. Continue if no errors encountered, warnings can be ignored."
   ]
  },
  {
   "cell_type": "code",
   "execution_count": 1,
   "metadata": {
    "collapsed": true
   },
   "outputs": [],
   "source": [
    "import cv2\n",
    "import sys\n",
    "import numpy as np\n",
    "import mxnet as mx\n",
    "import os\n",
    "import dlib\n",
    "from __future__ import absolute_import\n",
    "from __future__ import division\n",
    "from __future__ import print_function\n",
    "\n",
    "from scipy import misc\n",
    "import random\n",
    "import sklearn\n",
    "from sklearn.decomposition import PCA\n",
    "from time import sleep\n",
    "from easydict import EasyDict as edict\n",
    "from skimage import transform as trans\n",
    "import matplotlib.pyplot as plt\n",
    "from mxnet.contrib.onnx.onnx2mx.import_model import import_model"
   ]
  },
  {
   "cell_type": "markdown",
   "metadata": {},
   "source": [
    "### Load pretrained model\n",
    "`get_model()` : Loads ONNX model into MXNet symbols and params, defines model using symbol file and binds parameters to the model using params file."
   ]
  },
  {
   "cell_type": "code",
   "execution_count": 2,
   "metadata": {
    "collapsed": true
   },
   "outputs": [],
   "source": [
    "def get_model(ctx, model):\n",
    "    image_size = (112,112)\n",
    "    # Import ONNX model\n",
    "    sym, arg_params, aux_params = import_model(model)\n",
    "    # Define and binds parameters to the network\n",
    "    model = mx.mod.Module(symbol=sym, context=ctx, label_names = None)\n",
    "    model.bind(data_shapes=[('data', (1, 3, image_size[0], image_size[1]))])\n",
    "    model.set_params(arg_params, aux_params)\n",
    "    return model"
   ]
  },
  {
   "cell_type": "markdown",
   "metadata": {},
   "source": [
    "### Configure face detection model for preprocessing"
   ]
  },
  {
   "cell_type": "code",
   "execution_count": 3,
   "metadata": {
    "collapsed": true
   },
   "outputs": [],
   "source": [
    "# Determine and set context\n",
    "if len(mx.test_utils.list_gpus())==0:\n",
    "    ctx = mx.cpu()\n",
    "else:\n",
    "    ctx = mx.gpu(0)"
   ]
  },
  {
   "cell_type": "markdown",
   "metadata": {},
   "source": [
    "### Preprocess images\n",
    "In order to input only face pixels into the network, all input images are passed through a pretrained face detection and alignment model as described above. The output of this model are landmark points and a bounding box corresponding to the face in the image. Using this output, the image is processed using affine transforms to generate the aligned face images which are input to the network. The functions performing this is defined below.\n",
    "\n",
    "`preprocess()` : Takes output of face detector (bounding box and landmark points for face in the image) as input and generates aligned face images\n",
    "\n",
    "`get_all_input()` : Passes input images through the face detector, and returns aligned face images generated by `preprocess()`"
   ]
  },
  {
   "cell_type": "code",
   "execution_count": 4,
   "metadata": {
    "collapsed": true
   },
   "outputs": [],
   "source": [
    "def preprocess(img, bbox=None, landmark=None, **kwargs):\n",
    "    M = None\n",
    "    image_size = []\n",
    "    str_image_size = kwargs.get('image_size', '')\n",
    "    # Assert input shape\n",
    "    if len(str_image_size)>0:\n",
    "        image_size = [int(x) for x in str_image_size.split(',')]\n",
    "        if len(image_size)==1:\n",
    "            image_size = [image_size[0], image_size[0]]\n",
    "        assert len(image_size)==2\n",
    "        assert image_size[0]==112\n",
    "        assert image_size[0]==112 or image_size[1]==96\n",
    "    \n",
    "    # Do alignment using landmark points\n",
    "    if landmark is not None:\n",
    "        assert len(image_size)==2\n",
    "        src = np.array([\n",
    "          [30.2946, 51.6963],\n",
    "          [65.5318, 51.5014],\n",
    "          [48.0252, 71.7366],\n",
    "          [33.5493, 92.3655],\n",
    "          [62.7299, 92.2041] ], dtype=np.float32 )\n",
    "        if image_size[1]==112:\n",
    "            src[:,0] += 8.0\n",
    "        dst = landmark.astype(np.float32)\n",
    "        tform = trans.SimilarityTransform()\n",
    "        tform.estimate(dst, src)\n",
    "        M = tform.params[0:2,:]\n",
    "        assert len(image_size)==2\n",
    "        warped = cv2.warpAffine(img,M,(image_size[1],image_size[0]), borderValue = 0.0)\n",
    "        return warped\n",
    "    \n",
    "    # If no landmark points available, do alignment using bounding box. If no bounding box available use center crop\n",
    "    if M is None:\n",
    "        if bbox is None:\n",
    "            det = np.zeros(4, dtype=np.int32)\n",
    "            det[0] = int(img.shape[1]*0.0625)\n",
    "            det[1] = int(img.shape[0]*0.0625)\n",
    "            det[2] = img.shape[1] - det[0]\n",
    "            det[3] = img.shape[0] - det[1]\n",
    "        else:\n",
    "            det = bbox\n",
    "        margin = kwargs.get('margin', 44)\n",
    "        bb = np.zeros(4, dtype=np.int32)\n",
    "        bb[0] = np.maximum(det[0]-margin/2, 0)\n",
    "        bb[1] = np.maximum(det[1]-margin/2, 0)\n",
    "        bb[2] = np.minimum(det[2]+margin/2, img.shape[1])\n",
    "        bb[3] = np.minimum(det[3]+margin/2, img.shape[0])\n",
    "        ret = img[bb[1]:bb[3],bb[0]:bb[2],:]\n",
    "        if len(image_size)>0:\n",
    "            ret = cv2.resize(ret, (image_size[1], image_size[0]))\n",
    "        return ret"
   ]
  },
  {
   "cell_type": "markdown",
   "metadata": {},
   "source": [
    "### Get data from input"
   ]
  },
  {
   "cell_type": "code",
   "execution_count": 5,
   "metadata": {
    "collapsed": true
   },
   "outputs": [],
   "source": [
    "def get_all_input(face_img,name_face, save_img=False): \n",
    "    #Use dlib to get bbox and 5 points\n",
    "    detector = dlib.get_frontal_face_detector()\n",
    "    predictor = dlib.shape_predictor(\"./shape_predictor_68_face_landmarks.dat\")\n",
    "\n",
    "    # Load the image using Dlib\n",
    "    img = dlib.load_rgb_image(name_face)\n",
    "    \n",
    "    #Get info image\n",
    "    dets, scores, idx = detector.run(img, 1,-1)\n",
    "    points = list()\n",
    "    bbox = list()\n",
    "    for i, d in enumerate(dets):\n",
    "        point = list()\n",
    "        bb = list()\n",
    "        sp = predictor(img,d)\n",
    "        #Get values points\n",
    "        point.extend((sp.part(36).x,sp.part(45).x,sp.part(33).x,sp.part(48).x,sp.part(54).x,\n",
    "                      sp.part(36).y,sp.part(45).y,sp.part(33).y,sp.part(48).y,sp.part(54).y))\n",
    "        #set the threshold to identify faces \n",
    "        if scores[i] >0:\n",
    "            bb.extend((d.left(), d.top(), d.right(), d.bottom(),scores[i]))\n",
    "        if len(bb)>0:\n",
    "            bbox.append(bb)\n",
    "            points.append(point)\n",
    "    bbox = np.array((bbox))\n",
    "    points = np.array((points))\n",
    "    \n",
    "    if bbox.shape[0] == 0:\n",
    "        return None\n",
    "    aligned = []\n",
    "    for index in range(0, len(bbox)):\n",
    "        item_bbox = bbox[index, 0:4]\n",
    "        item_points = points[index, :].reshape((2, 5)).T\n",
    "        # print(bbox)\n",
    "        # print(points)\n",
    "        nimg = preprocess(face_img, item_bbox, item_points, image_size='112,112')\n",
    "        #if save_img:\n",
    "        #    cv2.imwrite('./Temp/{}-{}.jpg'.format(time.time(),\n",
    "        #                                          face_counter), nimg)\n",
    "            # print(self.face_counter)\n",
    "        #    face_counter += 1\n",
    "\n",
    "        nimg = cv2.cvtColor(nimg, cv2.COLOR_BGR2RGB)\n",
    "        aligned.append(np.transpose(nimg, (2, 0, 1)))\n",
    "\n",
    "    \n",
    "    return aligned"
   ]
  },
  {
   "cell_type": "markdown",
   "metadata": {},
   "source": [
    "### Predict\n",
    "`get_feature()` : Performs forward pass on the data `aligned` using `model` and returns the embedding"
   ]
  },
  {
   "cell_type": "code",
   "execution_count": 6,
   "metadata": {
    "collapsed": true
   },
   "outputs": [],
   "source": [
    "def get_feature(model,aligned):\n",
    "    input_blob = np.expand_dims(aligned, axis=0)\n",
    "    data = mx.nd.array(input_blob)\n",
    "    db = mx.io.DataBatch(data=(data,))\n",
    "    model.forward(db, is_train=False)\n",
    "    embedding = model.get_outputs()[0].asnumpy()\n",
    "    embedding = sklearn.preprocessing.normalize(embedding).flatten()\n",
    "    return embedding"
   ]
  },
  {
   "cell_type": "markdown",
   "metadata": {},
   "source": [
    "### Download input images and prepare ONNX model"
   ]
  },
  {
   "cell_type": "code",
   "execution_count": 7,
   "metadata": {
    "collapsed": true
   },
   "outputs": [],
   "source": [
    "# Download first image\n",
    "mx.test_utils.download('https://s3.amazonaws.com/onnx-model-zoo/arcface/player1.jpg')\n",
    "# Download second image\n",
    "mx.test_utils.download('https://s3.amazonaws.com/onnx-model-zoo/arcface/player2.jpg')\n",
    "# Download onnx model\n",
    "mx.test_utils.download('https://s3.amazonaws.com/onnx-model-zoo/arcface/resnet100.onnx')\n",
    "# Path to ONNX model\n",
    "model_name = '/home/pocpon/models/models/face_recognition/ArcFace/resnet100.onnx'"
   ]
  },
  {
   "cell_type": "code",
   "execution_count": null,
   "metadata": {
    "collapsed": true
   },
   "outputs": [],
   "source": [
    "# Load ONNX model\n",
    "model = get_model(ctx , model_name)"
   ]
  },
  {
   "cell_type": "markdown",
   "metadata": {},
   "source": [
    "### Generate predictions\n",
    "Two face images are passed through the network sequentially to generate embedding vectors for each. The squared distance and cosine similarity between the embedding vectors are computed and displayed. Images containing face of a single person will have low distance and high similarity and vice-versa. The distance values are in [0,4) and similarity values in [-1,1]."
   ]
  },
  {
   "cell_type": "code",
   "execution_count": null,
   "metadata": {},
   "outputs": [],
   "source": [
    "# Load first image\n",
    "img1 = cv2.imread('player1.jpg')\n",
    "name_img1 = \"player1.jpg\"\n",
    "# Display first image\n",
    "plt.imshow(cv2.cvtColor(img1,cv2.COLOR_BGR2RGB))\n",
    "plt.show()"
   ]
  },
  {
   "cell_type": "code",
   "execution_count": null,
   "metadata": {},
   "outputs": [],
   "source": [
    "pre1 = get_all_input(img1,name_img1)\n",
    "#print(pre.shape)\n",
    "#print((np.transpose(pre[0],(1,2,0))).shape)\n",
    "for i in range(len(pre)):\n",
    "    plt.imshow(np.transpose(pre1[i],(1,2,0)))\n",
    "    plt.show()\n",
    "# Get embedding of second image\n",
    "out1 = get_feature(model,pre1[0])"
   ]
  },
  {
   "cell_type": "code",
   "execution_count": null,
   "metadata": {},
   "outputs": [],
   "source": [
    "# Load second image\n",
    "img2 = cv2.imread('player2.jpg')\n",
    "name_img2 = \"player2.jpg\"\n",
    "# Display second image\n",
    "plt.imshow(cv2.cvtColor(img2,cv2.COLOR_BGR2RGB))\n",
    "plt.show()"
   ]
  },
  {
   "cell_type": "code",
   "execution_count": null,
   "metadata": {},
   "outputs": [],
   "source": [
    "pre2 = get_all_input(img2, name_img2)\n",
    "#print(pre.shape)\n",
    "#print((np.transpose(pre[0],(1,2,0))).shape)\n",
    "for i in range(len(pre)):\n",
    "    plt.imshow(np.transpose(pre2[i],(1,2,0)))\n",
    "    plt.show()\n",
    "# Get embedding of second image\n",
    "out2 = get_feature(model,pre2[0])"
   ]
  },
  {
   "cell_type": "code",
   "execution_count": null,
   "metadata": {},
   "outputs": [],
   "source": [
    "# Compute squared distance between embeddings\n",
    "dist = np.sum(np.square(out1-out2))\n",
    "# Compute cosine similarity between embedddings\n",
    "sim = np.dot(out1, out2.T)\n",
    "# Print predictions\n",
    "print('Distance = %f' %(dist))\n",
    "print('Similarity = %f' %(sim))"
   ]
  },
  {
   "cell_type": "code",
   "execution_count": null,
   "metadata": {
    "collapsed": true
   },
   "outputs": [],
   "source": []
  }
 ],
 "metadata": {
  "kernelspec": {
   "display_name": "Python 3",
   "language": "python",
   "name": "python3"
  },
  "language_info": {
   "codemirror_mode": {
    "name": "ipython",
    "version": 3
   },
   "file_extension": ".py",
   "mimetype": "text/x-python",
   "name": "python",
   "nbconvert_exporter": "python",
   "pygments_lexer": "ipython3",
   "version": "3.6.2"
  }
 },
 "nbformat": 4,
 "nbformat_minor": 2
}
